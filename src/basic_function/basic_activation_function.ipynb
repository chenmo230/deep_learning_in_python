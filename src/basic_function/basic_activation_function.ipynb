{
 "cells": [
  {
   "cell_type": "code",
   "execution_count": 1,
   "id": "28b04fa7-8753-469f-9905-f61e64eceaf0",
   "metadata": {},
   "outputs": [],
   "source": [
    "import numpy as np"
   ]
  },
  {
   "attachments": {
    "06077e49-01fc-497e-b6b4-d8d015160c8b.png": {
     "image/png": "[encoded data removed]"
    },
    "ab538003-aec3-4532-875c-7da9d8099fdd.png": {
     "image/png": "[encoded data removed]"
    }
   },
   "cell_type": "markdown",
   "id": "d2311e51-15ba-40b0-b802-d378c588cd5d",
   "metadata": {},
   "source": [
    "## 1、使用np.exp()实现sigmoid function\n",
    "![image.png](attachment:ab538003-aec3-4532-875c-7da9d8099fdd.png)\n",
    "![image.png](attachment:06077e49-01fc-497e-b6b4-d8d015160c8b.png)"
   ]
  },
  {
   "cell_type": "code",
   "execution_count": 2,
   "id": "1ca2ceac-057a-4986-9766-3af3a8943e15",
   "metadata": {},
   "outputs": [],
   "source": [
    "def basic_sigmoid(x):\n",
    "    \"\"\"\n",
    "    计算sigmoid函数\n",
    "    \"\"\"\n",
    "    return 1 / (1 + np.exp(-x))"
   ]
  },
  {
   "cell_type": "code",
   "execution_count": 7,
   "id": "dfa34773-ee6e-4cc9-831b-d161d5b19058",
   "metadata": {},
   "outputs": [
    {
     "data": {
      "text/plain": [
       "array([3.72007598e-44, 4.53978687e-05, 2.68941421e-01, 5.00000000e-01,\n",
       "       7.31058579e-01, 9.99954602e-01, 1.00000000e+00])"
      ]
     },
     "execution_count": 7,
     "metadata": {},
     "output_type": "execute_result"
    }
   ],
   "source": [
    "basic_sigmoid(np.array([-100, -10, -1, 0, 1, 10, 100]))"
   ]
  },
  {
   "cell_type": "markdown",
   "id": "3c73763f-03a2-4d59-9b68-3bd7e79396ee",
   "metadata": {},
   "source": [
    "## 2、实现Sigmoid gradient（梯度）\n",
    "完成sigmoid的梯度函数，用它去计算sigmoid相对于其输入x的梯度\n",
    "$\\sigma'(x) =\\sigma(x)(1-\\sigma(x))$"
   ]
  },
  {
   "cell_type": "code",
   "execution_count": 9,
   "id": "5b565650-6674-4ca9-a541-128d543b6b2e",
   "metadata": {},
   "outputs": [],
   "source": [
    "def sigmoid_derivative(x):\n",
    "    \"\"\"\n",
    "    计算sigmoid function函数相对于其输入x的梯度（也称为斜率或者导数）.\n",
    "    \"\"\"\n",
    "    s = basic_sigmoid(x)\n",
    "    ds = s * (1 - s)\n",
    "    \n",
    "    return ds"
   ]
  },
  {
   "cell_type": "code",
   "execution_count": 10,
   "id": "5e8691af-83bf-452e-aecf-e6f5469ead4b",
   "metadata": {},
   "outputs": [
    {
     "data": {
      "text/plain": [
       "array([3.72007598e-44, 4.53958077e-05, 1.96611933e-01, 2.50000000e-01,\n",
       "       1.96611933e-01, 4.53958077e-05, 0.00000000e+00])"
      ]
     },
     "execution_count": 10,
     "metadata": {},
     "output_type": "execute_result"
    }
   ],
   "source": [
    "sigmoid_derivative(np.array([-100, -10, -1, 0, 1, 10, 100]))"
   ]
  },
  {
   "cell_type": "code",
   "execution_count": null,
   "id": "bbca03a6-6c7a-462c-bd11-e0e3263fcfe7",
   "metadata": {},
   "outputs": [],
   "source": []
  }
 ],
 "metadata": {
  "kernelspec": {
   "display_name": "Python 3 (ipykernel)",
   "language": "python",
   "name": "python3"
  },
  "language_info": {
   "codemirror_mode": {
    "name": "ipython",
    "version": 3
   },
   "file_extension": ".py",
   "mimetype": "text/x-python",
   "name": "python",
   "nbconvert_exporter": "python",
   "pygments_lexer": "ipython3",
   "version": "3.9.6"
  }
 },
 "nbformat": 4,
 "nbformat_minor": 5
}
