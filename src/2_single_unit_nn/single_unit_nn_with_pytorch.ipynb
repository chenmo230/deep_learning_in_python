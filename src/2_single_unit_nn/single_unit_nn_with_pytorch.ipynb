{
 "cells": [
  {
   "cell_type": "code",
   "execution_count": 1,
   "id": "0778665b-dd7b-4fb4-b895-d4f02ea48dd8",
   "metadata": {},
   "outputs": [],
   "source": [
    "from data import load_dataset"
   ]
  },
  {
   "cell_type": "markdown",
   "id": "7657dae1-b4af-4552-9534-2b56518b1e74",
   "metadata": {},
   "source": [
    "### 1. Read data"
   ]
  },
  {
   "cell_type": "code",
   "execution_count": 2,
   "id": "808dec98-3d5e-4687-8596-3c6be003e9a6",
   "metadata": {},
   "outputs": [
    {
     "name": "stdout",
     "output_type": "stream",
     "text": [
      "number of samples in train dataset:  209\n",
      "number of samples in test  dataset:  50\n",
      "shape of train_x:  (209, 64, 64, 3)\n",
      "shape of train_y:  (1, 209)\n",
      "shape of test_x:  (50, 64, 64, 3)\n",
      "shape of test_y:  (1, 50)\n"
     ]
    }
   ],
   "source": [
    "train_x, train_y, test_x, test_y, classes = load_dataset()\n",
    "print(\"number of samples in train dataset: \", train_x.shape[0])\n",
    "print(\"number of samples in test  dataset: \", test_x.shape[0])\n",
    "print(\"shape of train_x: \", train_x.shape)\n",
    "print(\"shape of train_y: \", train_y.shape)\n",
    "print(\"shape of test_x: \", test_x.shape)\n",
    "print(\"shape of test_y: \", test_y.shape)"
   ]
  },
  {
   "cell_type": "code",
   "execution_count": 3,
   "id": "d1b8ce44-b297-4a12-bce8-a58fc5da8ecd",
   "metadata": {},
   "outputs": [
    {
     "data": {
      "text/plain": [
       "array([[0, 0, 1, 0, 0, 0, 0, 1, 0, 0, 0, 1, 0, 1, 1, 0, 0, 0, 0, 1, 0, 0,\n",
       "        0, 0, 1, 1, 0, 1, 0, 1, 0, 0, 0, 0, 0, 0, 0, 0, 1, 0, 0, 1, 1, 0,\n",
       "        0, 0, 0, 1, 0, 0, 1, 0, 0, 0, 1, 0, 1, 1, 0, 1, 1, 1, 0, 0, 0, 0,\n",
       "        0, 0, 1, 0, 0, 1, 0, 0, 0, 0, 0, 0, 0, 0, 0, 0, 0, 1, 1, 0, 0, 0,\n",
       "        1, 0, 0, 0, 1, 1, 1, 0, 0, 1, 0, 0, 0, 0, 1, 0, 1, 0, 1, 1, 1, 1,\n",
       "        1, 1, 0, 0, 0, 0, 0, 1, 0, 0, 0, 1, 0, 0, 1, 0, 1, 0, 1, 1, 0, 0,\n",
       "        0, 1, 1, 1, 1, 1, 0, 0, 0, 0, 1, 0, 1, 1, 1, 0, 1, 1, 0, 0, 0, 1,\n",
       "        0, 0, 1, 0, 0, 0, 0, 0, 1, 0, 1, 0, 1, 0, 0, 1, 1, 1, 0, 0, 1, 1,\n",
       "        0, 1, 0, 1, 0, 0, 0, 0, 0, 1, 0, 0, 1, 0, 0, 0, 1, 0, 0, 0, 0, 1,\n",
       "        0, 0, 1, 0, 0, 0, 0, 0, 0, 0, 0]])"
      ]
     },
     "execution_count": 3,
     "metadata": {},
     "output_type": "execute_result"
    }
   ],
   "source": [
    "train_y"
   ]
  },
  {
   "cell_type": "code",
   "execution_count": 4,
   "id": "31ea0f84-b908-4beb-be64-35e94c01accb",
   "metadata": {},
   "outputs": [
    {
     "name": "stdout",
     "output_type": "stream",
     "text": [
      "(209, 12288) (209, 1) (50, 12288) (50, 1)\n",
      "[[ 17  31  56 ...   0   0   0]\n",
      " [196 192 190 ...  82  80  81]\n",
      " [ 82  71  68 ... 138 141 142]\n",
      " ...\n",
      " [143 155 165 ...  85 107 149]\n",
      " [ 22  24  23 ...   4   5   0]\n",
      " [  8  28  53 ...   0   0   0]]\n"
     ]
    }
   ],
   "source": [
    "train_x = train_x.reshape(train_x.shape[0], -1)\n",
    "train_y = train_y.reshape(train_y.shape[1], -1)\n",
    "test_x = test_x.reshape(test_x.shape[0], -1)\n",
    "test_y = test_y.reshape(test_y.shape[1], -1)\n",
    "print(train_x.shape, train_y.shape, test_x.shape, test_y.shape)\n",
    "print(train_x)"
   ]
  },
  {
   "cell_type": "markdown",
   "id": "4e1279a0-a941-4c3a-88aa-80bc06c8dc9f",
   "metadata": {},
   "source": [
    "### 2. Data standardization processing"
   ]
  },
  {
   "cell_type": "code",
   "execution_count": 5,
   "id": "5fec1bea-99a4-46a5-8411-4f2b837c16db",
   "metadata": {},
   "outputs": [],
   "source": [
    "train_x = train_x / 255.\n",
    "test_x = test_x / 255."
   ]
  },
  {
   "cell_type": "code",
   "execution_count": 6,
   "id": "4c73fe1e-0b96-425f-8b5a-2294787ef59c",
   "metadata": {},
   "outputs": [
    {
     "data": {
      "text/plain": [
       "Sequential(\n",
       "  (0): Linear(in_features=12288, out_features=1, bias=True)\n",
       ")"
      ]
     },
     "execution_count": 6,
     "metadata": {},
     "output_type": "execute_result"
    }
   ],
   "source": [
    "import torch\n",
    "from torch import nn\n",
    "\n",
    "net = nn.Sequential(nn.Linear(train_x.shape[1], 1))\n",
    "net"
   ]
  },
  {
   "cell_type": "code",
   "execution_count": 7,
   "id": "1c9de7c4-d582-4ebd-9a31-56dfbcb7adc3",
   "metadata": {},
   "outputs": [
    {
     "data": {
      "text/plain": [
       "(tensor([[-0.0077,  0.0064, -0.0041,  ...,  0.0098, -0.0141,  0.0054]]),\n",
       " tensor([0.]))"
      ]
     },
     "execution_count": 7,
     "metadata": {},
     "output_type": "execute_result"
    }
   ],
   "source": [
    "net[0].weight.data.normal_(0, 0.01), net[0].bias.data.fill_(0)"
   ]
  },
  {
   "cell_type": "code",
   "execution_count": 8,
   "id": "b75884ea-2152-4b5d-8878-1be6ff4f6d47",
   "metadata": {},
   "outputs": [
    {
     "data": {
      "text/plain": [
       "BCEWithLogitsLoss()"
      ]
     },
     "execution_count": 8,
     "metadata": {},
     "output_type": "execute_result"
    }
   ],
   "source": [
    "loss = nn.BCEWithLogitsLoss()\n",
    "loss"
   ]
  },
  {
   "cell_type": "code",
   "execution_count": 9,
   "id": "b48c04b0-5320-4af1-aa4e-9f9f8337df12",
   "metadata": {},
   "outputs": [],
   "source": [
    "trainer = torch.optim.SGD(net.parameters(), lr=0.001)"
   ]
  },
  {
   "cell_type": "code",
   "execution_count": 10,
   "id": "881f0f49-33ca-46cf-991c-980ddb1345b6",
   "metadata": {},
   "outputs": [
    {
     "data": {
      "text/plain": [
       "(tensor([[0.0667, 0.1216, 0.2196,  ..., 0.0000, 0.0000, 0.0000],\n",
       "         [0.7686, 0.7529, 0.7451,  ..., 0.3216, 0.3137, 0.3176],\n",
       "         [0.3216, 0.2784, 0.2667,  ..., 0.5412, 0.5529, 0.5569],\n",
       "         ...,\n",
       "         [0.5608, 0.6078, 0.6471,  ..., 0.3333, 0.4196, 0.5843],\n",
       "         [0.0863, 0.0941, 0.0902,  ..., 0.0157, 0.0196, 0.0000],\n",
       "         [0.0314, 0.1098, 0.2078,  ..., 0.0000, 0.0000, 0.0000]]),\n",
       " torch.Size([209, 1]))"
      ]
     },
     "execution_count": 10,
     "metadata": {},
     "output_type": "execute_result"
    }
   ],
   "source": [
    "X = torch.from_numpy(train_x).float()\n",
    "y = torch.from_numpy(train_y).float()\n",
    "X, y.shape"
   ]
  },
  {
   "cell_type": "code",
   "execution_count": 11,
   "id": "c4f97436-5e7d-4cda-9c90-c4f2c9f9845e",
   "metadata": {},
   "outputs": [
    {
     "data": {
      "text/plain": [
       "(torch.Size([50, 12288]), torch.Size([50, 1]))"
      ]
     },
     "execution_count": 11,
     "metadata": {},
     "output_type": "execute_result"
    }
   ],
   "source": [
    "test_X = torch.from_numpy(test_x).float()\n",
    "test_Y = torch.from_numpy(test_y).float()\n",
    "test_X.shape, test_Y.shape"
   ]
  },
  {
   "cell_type": "code",
   "execution_count": 12,
   "id": "32ae2582-a590-498a-b9d9-c92a86c944e1",
   "metadata": {},
   "outputs": [
    {
     "name": "stdout",
     "output_type": "stream",
     "text": [
      "epoch 0, loss 0.648607\n",
      "epoch 100, loss 0.585319\n",
      "epoch 200, loss 0.549666\n",
      "epoch 300, loss 0.522912\n",
      "epoch 400, loss 0.500968\n",
      "epoch 500, loss 0.482163\n",
      "epoch 600, loss 0.465610\n",
      "epoch 700, loss 0.450773\n",
      "epoch 800, loss 0.437302\n",
      "epoch 900, loss 0.424951\n",
      "epoch 1000, loss 0.413542\n",
      "epoch 1100, loss 0.402937\n",
      "epoch 1200, loss 0.393030\n",
      "epoch 1300, loss 0.383737\n",
      "epoch 1400, loss 0.374988\n",
      "epoch 1500, loss 0.366725\n",
      "epoch 1600, loss 0.358899\n",
      "epoch 1700, loss 0.351468\n",
      "epoch 1800, loss 0.344399\n",
      "epoch 1900, loss 0.337659\n",
      "epoch 2000, loss 0.331221\n",
      "epoch 2100, loss 0.325063\n",
      "epoch 2200, loss 0.319162\n",
      "epoch 2300, loss 0.313501\n",
      "epoch 2400, loss 0.308063\n",
      "epoch 2500, loss 0.302832\n",
      "epoch 2600, loss 0.297796\n",
      "epoch 2700, loss 0.292942\n",
      "epoch 2800, loss 0.288258\n",
      "epoch 2900, loss 0.283736\n",
      "epoch 3000, loss 0.279365\n",
      "epoch 3100, loss 0.275137\n",
      "epoch 3200, loss 0.271044\n",
      "epoch 3300, loss 0.267079\n",
      "epoch 3400, loss 0.263236\n",
      "epoch 3500, loss 0.259508\n",
      "epoch 3600, loss 0.255889\n",
      "epoch 3700, loss 0.252375\n",
      "epoch 3800, loss 0.248960\n",
      "epoch 3900, loss 0.245640\n",
      "epoch 4000, loss 0.242411\n",
      "epoch 4100, loss 0.239268\n",
      "epoch 4200, loss 0.236208\n",
      "epoch 4300, loss 0.233227\n",
      "epoch 4400, loss 0.230322\n",
      "epoch 4500, loss 0.227490\n",
      "epoch 4600, loss 0.224728\n",
      "epoch 4700, loss 0.222032\n",
      "epoch 4800, loss 0.219402\n",
      "epoch 4900, loss 0.216833\n"
     ]
    }
   ],
   "source": [
    "num_epochs = 5000\n",
    "for epoch in range(num_epochs):\n",
    "    l = loss(net(X) ,y)\n",
    "    trainer.zero_grad()\n",
    "    l.backward()\n",
    "    trainer.step()\n",
    "    l = loss(net(X), y)\n",
    "    if epoch % 100 == 0:\n",
    "        print(f'epoch {epoch}, loss {l:f}')"
   ]
  },
  {
   "cell_type": "code",
   "execution_count": null,
   "id": "a351adf6-d244-4a04-be5e-4c819abe5d14",
   "metadata": {},
   "outputs": [],
   "source": []
  }
 ],
 "metadata": {
  "kernelspec": {
   "display_name": "Python 3 (ipykernel)",
   "language": "python",
   "name": "python3"
  },
  "language_info": {
   "codemirror_mode": {
    "name": "ipython",
    "version": 3
   },
   "file_extension": ".py",
   "mimetype": "text/x-python",
   "name": "python",
   "nbconvert_exporter": "python",
   "pygments_lexer": "ipython3",
   "version": "3.9.6"
  }
 },
 "nbformat": 4,
 "nbformat_minor": 5
}
