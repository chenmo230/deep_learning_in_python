{
 "cells": [
  {
   "cell_type": "code",
   "execution_count": 4,
   "id": "2c237da2-eede-4a02-8790-30c6c8b5bf62",
   "metadata": {},
   "outputs": [],
   "source": [
    "import numpy as np\n",
    "from data import load_dataset"
   ]
  },
  {
   "cell_type": "markdown",
   "id": "79e0ee93-83fe-4cf0-8b2f-9db4c40ea882",
   "metadata": {},
   "source": [
    "## Read data"
   ]
  },
  {
   "cell_type": "code",
   "execution_count": 6,
   "id": "d399ea50-e772-490c-88a9-a6d2eb54ac2e",
   "metadata": {},
   "outputs": [
    {
     "name": "stdout",
     "output_type": "stream",
     "text": [
      "number of samples in train dataset:  209\n",
      "number of samples in test  dataset:  50\n",
      "shape of train_x:  (209, 64, 64, 3)\n",
      "shape of train_y:  (1, 209)\n",
      "shape of test_x:  (50, 64, 64, 3)\n",
      "shape of test_y:  (1, 50)\n"
     ]
    }
   ],
   "source": [
    "train_x, train_y, test_x, test_y, classes = load_dataset()\n",
    "print(\"number of samples in train dataset: \", train_x.shape[0])\n",
    "print(\"number of samples in test  dataset: \", test_x.shape[0])\n",
    "print(\"shape of train_x: \", train_x.shape)\n",
    "print(\"shape of train_y: \", train_y.shape)\n",
    "print(\"shape of test_x: \", test_x.shape)\n",
    "print(\"shape of test_y: \", test_y.shape)"
   ]
  },
  {
   "cell_type": "code",
   "execution_count": 7,
   "id": "d0f04517-e995-4472-b7f8-fe14a984f236",
   "metadata": {},
   "outputs": [
    {
     "data": {
      "text/plain": [
       "array([[0, 0, 1, 0, 0, 0, 0, 1, 0, 0, 0, 1, 0, 1, 1, 0, 0, 0, 0, 1, 0, 0,\n",
       "        0, 0, 1, 1, 0, 1, 0, 1, 0, 0, 0, 0, 0, 0, 0, 0, 1, 0, 0, 1, 1, 0,\n",
       "        0, 0, 0, 1, 0, 0, 1, 0, 0, 0, 1, 0, 1, 1, 0, 1, 1, 1, 0, 0, 0, 0,\n",
       "        0, 0, 1, 0, 0, 1, 0, 0, 0, 0, 0, 0, 0, 0, 0, 0, 0, 1, 1, 0, 0, 0,\n",
       "        1, 0, 0, 0, 1, 1, 1, 0, 0, 1, 0, 0, 0, 0, 1, 0, 1, 0, 1, 1, 1, 1,\n",
       "        1, 1, 0, 0, 0, 0, 0, 1, 0, 0, 0, 1, 0, 0, 1, 0, 1, 0, 1, 1, 0, 0,\n",
       "        0, 1, 1, 1, 1, 1, 0, 0, 0, 0, 1, 0, 1, 1, 1, 0, 1, 1, 0, 0, 0, 1,\n",
       "        0, 0, 1, 0, 0, 0, 0, 0, 1, 0, 1, 0, 1, 0, 0, 1, 1, 1, 0, 0, 1, 1,\n",
       "        0, 1, 0, 1, 0, 0, 0, 0, 0, 1, 0, 0, 1, 0, 0, 0, 1, 0, 0, 0, 0, 1,\n",
       "        0, 0, 1, 0, 0, 0, 0, 0, 0, 0, 0]])"
      ]
     },
     "execution_count": 7,
     "metadata": {},
     "output_type": "execute_result"
    }
   ],
   "source": [
    "train_y"
   ]
  },
  {
   "cell_type": "code",
   "execution_count": 21,
   "id": "47493534-6e42-4c10-8096-83541b8d4301",
   "metadata": {},
   "outputs": [
    {
     "name": "stdout",
     "output_type": "stream",
     "text": [
      "(209, 12288) (209, 1) (50, 12288) (50, 1)\n"
     ]
    }
   ],
   "source": [
    "train_x = train_x.reshape(train_x.shape[0], -1)\n",
    "train_y = train_y.reshape(train_y.shape[1], -1)\n",
    "test_x = test_x.reshape(test_x.shape[0], -1)\n",
    "test_y = test_y.reshape(test_y.shape[1], -1)\n",
    "print(train_x.shape, train_y.shape, test_x.shape, test_y.shape)"
   ]
  },
  {
   "cell_type": "markdown",
   "id": "d8a074c5-5b0d-4ae6-a173-b413d7d6a74d",
   "metadata": {},
   "source": [
    "## Data standardization processing"
   ]
  },
  {
   "cell_type": "code",
   "execution_count": 10,
   "id": "22743d1e-6824-4f72-9970-c57af38dc204",
   "metadata": {},
   "outputs": [],
   "source": [
    "train_x = train_x / 255.\n",
    "test_x = test_x / 255."
   ]
  },
  {
   "cell_type": "markdown",
   "id": "acaa1028-b509-40b0-ba0a-1d6862e6d5d7",
   "metadata": {},
   "source": [
    "## sigmoid function"
   ]
  },
  {
   "cell_type": "code",
   "execution_count": 11,
   "id": "d6fe1d8d-df94-4e5f-ac0d-eaaf2e72857d",
   "metadata": {},
   "outputs": [],
   "source": [
    "def basic_sigmoid(x):\n",
    "    return 1 / (1 + np.exp(-x))"
   ]
  },
  {
   "cell_type": "markdown",
   "id": "5bb64c21-0cf8-4edf-a234-0a30998db169",
   "metadata": {},
   "source": [
    "## Initialize parameters"
   ]
  },
  {
   "cell_type": "code",
   "execution_count": 78,
   "id": "a5da26e0-379e-44f6-9c04-c72ae2abca03",
   "metadata": {},
   "outputs": [
    {
     "name": "stdout",
     "output_type": "stream",
     "text": [
      "(4, 1)\n",
      "0.0\n"
     ]
    }
   ],
   "source": [
    "def init_params(num_features): \n",
    "    \"\"\"\n",
    "    Create a w parameter with a shape of (num_features, 1) and b=0\n",
    "    return:w, b\n",
    "    \"\"\"\n",
    "    w = np.zeros((num_features, 1))\n",
    "    b = 0.0\n",
    "    \n",
    "    return w, b\n",
    "\n",
    "\n",
    "# test init_with_params function\n",
    "w, b = init_params(4)\n",
    "print(w.shape)\n",
    "print(b)\n",
    "    "
   ]
  },
  {
   "cell_type": "markdown",
   "id": "5f35a767-2a81-4eb0-a11b-9f64b185ccc0",
   "metadata": {},
   "source": [
    "## Forward and backward propagation\n",
    "compute dw,db and cost"
   ]
  },
  {
   "cell_type": "code",
   "execution_count": 65,
   "id": "1fdab60b-f921-4d85-b2ce-a994c4efe54b",
   "metadata": {},
   "outputs": [],
   "source": [
    "def propagate(w, b, X, Y):\n",
    "    \"\"\"\n",
    "    Params:\n",
    "        w: weights, shape: (num_features, 1)\n",
    "        b: bias\n",
    "        X: x data, shape: (m, num_features)\n",
    "        Y: labels, shape:(m, 1)\n",
    "    Return:\n",
    "        cost、dw、db\n",
    "    \"\"\"\n",
    "    m = X.shape[0]\n",
    "\n",
    "    # forward\n",
    "    #  X: (m, num_features), w:(num_features, 1),, z: (m, 1)\n",
    "    z = (np.dot(X, w) + b).reshape(m, 1)\n",
    "    # A shape: (m, 1)\n",
    "    A = basic_sigmoid(z)\n",
    "    \n",
    "    #cost\n",
    "    cost = (-1 / m) * np.sum(Y * np.log(A) + (1 - Y) * np.log(1 - A))\n",
    "\n",
    "    # backward\n",
    "    # dz.shape: (m, 1)\n",
    "    dz = A - Y\n",
    "    # dw.shape: (num_features, 1), X.T: (num_features, m), dz: (m, 1)\n",
    "    dw = (1 / m) * np.dot(X.T, dz)\n",
    "    db = (1 / m) * np.sum(dz)\n",
    "\n",
    "    assert(dw.shape == w.shape)\n",
    "    assert(db.dtype == float)\n",
    "    cost = np.squeeze(cost)\n",
    "    assert(cost.shape == ())\n",
    "\n",
    "    grads = {\"dw\": dw, \"db\": db}\n",
    "\n",
    "    return grads, cost"
   ]
  },
  {
   "cell_type": "code",
   "execution_count": 66,
   "id": "43568bbb-e5bf-4dda-bdc6-859671476d3c",
   "metadata": {},
   "outputs": [
    {
     "name": "stdout",
     "output_type": "stream",
     "text": [
      "(12288, 1)\n",
      "[[0.04720893]\n",
      " [0.06299841]\n",
      " [0.04923539]\n",
      " ...\n",
      " [0.05074585]\n",
      " [0.0621259 ]\n",
      " [0.03245145]]\n",
      "0.15550239234449761\n",
      "0.6931471805599453\n"
     ]
    }
   ],
   "source": [
    "# test propagate function\n",
    "num_features = train_x.shape[1]\n",
    "w, b = init_with_params(num_features)\n",
    "\n",
    "grads, cost = propagate(w, b, train_x, train_y)\n",
    "print(grads[\"dw\"].shape)\n",
    "print(grads[\"dw\"])\n",
    "print(grads[\"db\"])\n",
    "print(cost)"
   ]
  },
  {
   "cell_type": "markdown",
   "id": "ec7a8480-a50a-4f46-9e46-ddbfcf594bca",
   "metadata": {},
   "source": [
    "## optimizing process\n",
    "update w and b, and save cost"
   ]
  },
  {
   "cell_type": "code",
   "execution_count": 70,
   "id": "a95b2250-6145-4db3-9323-639c81650bd8",
   "metadata": {},
   "outputs": [],
   "source": [
    "def optimize(w, b, X, Y, num_iterations, learning_rate):\n",
    "    \"\"\"\n",
    "    params：\n",
    "        w: weights, shape: (num_features, 1)\n",
    "        b: bias\n",
    "        X: x data, shape: (m, num_features)\n",
    "        Y: labels, shape:(m, 1)\n",
    "        num_iterations: number of iterations\n",
    "        learning_rate: learning rate\n",
    "    Returns:\n",
    "        params: {\"w\": w, \"b\": b}\n",
    "        costs: cost values, [float]\n",
    "    \"\"\"\n",
    "    costs = []\n",
    "    for i in range(num_iterations):\n",
    "\n",
    "        # get grads and cost\n",
    "        grads, cost = propagate(w, b, X, Y)\n",
    "\n",
    "        # get dw, db\n",
    "        dw = grads[\"dw\"]\n",
    "        db = grads[\"db\"]\n",
    "\n",
    "        # update w and b\n",
    "        w = w - learning_rate * dw\n",
    "        b = b - learning_rate * db\n",
    "\n",
    "        # save cost\n",
    "        if i % 100 == 0:\n",
    "            costs.append(cost)\n",
    "            print(\"cost result %i: %f\" %(i, cost))\n",
    "\n",
    "    params = {\"w\": w, \"b\": b}\n",
    "\n",
    "    return params, costs\n",
    "        "
   ]
  },
  {
   "cell_type": "code",
   "execution_count": 69,
   "id": "b63c5f73-eb40-4c9c-9917-0a856822dfbc",
   "metadata": {},
   "outputs": [
    {
     "name": "stdout",
     "output_type": "stream",
     "text": [
      "cost result 0: 0.693147\n",
      "cost result 100: 0.823921\n",
      "cost result 200: 0.418944\n"
     ]
    },
    {
     "data": {
      "text/plain": [
       "({'w': array([[ 0.00664283],\n",
       "         [-0.01163286],\n",
       "         [-0.00548023],\n",
       "         ...,\n",
       "         [-0.00842764],\n",
       "         [-0.01770452],\n",
       "         [ 0.00787242]]),\n",
       "  'b': -0.003863357901216874},\n",
       " [0.6931471805599453, 0.8239208681632532, 0.41894444797388297])"
      ]
     },
     "execution_count": 69,
     "metadata": {},
     "output_type": "execute_result"
    }
   ],
   "source": [
    "# test optimize function\n",
    "optimize(w, b, train_x, train_y, 201, 0.01)"
   ]
  },
  {
   "cell_type": "markdown",
   "id": "db40fa3f-f778-4149-9a3f-5b29052e36ae",
   "metadata": {},
   "source": [
    "## predict"
   ]
  },
  {
   "cell_type": "code",
   "execution_count": 74,
   "id": "1b34d70a-bb03-42ca-b2c0-22457ada6648",
   "metadata": {},
   "outputs": [],
   "source": [
    "def precit(w, b, X):\n",
    "    \"\"\"\n",
    "    params：\n",
    "        w: weights, shape: (num_features, 1)\n",
    "        b: bias\n",
    "        X: x data, shape: (m, num_features)\n",
    "    Returns:\n",
    "        Y_prediction: shape: (m, 1) \n",
    "    \"\"\"\n",
    "    m = X.shape[0]\n",
    "\n",
    "    # forward\n",
    "    #  X: (m, num_features), w:(num_features, 1),, z: (m, 1)\n",
    "    z = (np.dot(X, w) + b).reshape(m, 1)\n",
    "    # A shape: (m, 1)\n",
    "    A = basic_sigmoid(z)\n",
    "\n",
    "    Y_prediction = np.where(A > 0.5, 1, 0)\n",
    "\n",
    "    assert(Y_prediction.shape == (m, 1))\n",
    "\n",
    "    return Y_prediction\n",
    "    "
   ]
  },
  {
   "cell_type": "code",
   "execution_count": 76,
   "id": "af33f491-135f-4788-8d55-dde04de1151a",
   "metadata": {},
   "outputs": [
    {
     "name": "stdout",
     "output_type": "stream",
     "text": [
      "(209, 1)\n"
     ]
    }
   ],
   "source": [
    "# test predict function\n",
    "Y_prediction = precit(w, b, train_x)\n",
    "print(Y_prediction.shape)"
   ]
  },
  {
   "cell_type": "markdown",
   "id": "cf3650df-457e-4f52-86ad-63549f9c942d",
   "metadata": {},
   "source": [
    "## implement all "
   ]
  },
  {
   "cell_type": "code",
   "execution_count": 87,
   "id": "ff2898ba-a6c2-48df-9d4b-7779a30e1054",
   "metadata": {},
   "outputs": [],
   "source": [
    "def model(X_train, Y_train, X_test, Y_test, num_iterations = 2000, learning_rate = 0.01):\n",
    "    num_features = X_train.shape[1]\n",
    "    \n",
    "    # init params\n",
    "    w, b = init_params(num_features)\n",
    "\n",
    "    # train params\n",
    "    params, costs = optimize(w, b, X_train, Y_train, num_iterations, learning_rate)\n",
    "\n",
    "    # get w and b\n",
    "    w = params[\"w\"]\n",
    "    b = params[\"b\"]\n",
    "\n",
    "    # predict\n",
    "    Y_prediction_train = precit(w, b, X_train)\n",
    "    Y_prediction_test = precit(w, b, X_test)\n",
    "\n",
    "    # print accuracy\n",
    "    print(\"train data accuracy: {}\".format(np.mean(Y_prediction_train == Y_train)))\n",
    "    print(\"test  data accuracy: {}\".format(np.mean(Y_prediction_test == Y_test)))\n",
    "\n",
    "    d = {\"costs\": costs,\n",
    "         \"Y_prediction_test\": Y_prediction_test, \n",
    "         \"Y_prediction_train\" : Y_prediction_train, \n",
    "         \"w\" : w, \n",
    "         \"b\" : b,\n",
    "         \"learning_rate\" : learning_rate,\n",
    "         \"num_iterations\": num_iterations}\n",
    "    \n",
    "    return d"
   ]
  },
  {
   "cell_type": "markdown",
   "id": "ea77df9f-18ae-4aed-b282-0ea66593cac8",
   "metadata": {},
   "source": [
    "## test"
   ]
  },
  {
   "cell_type": "code",
   "execution_count": 88,
   "id": "1257cd33-cde2-4456-847f-d62826fd669e",
   "metadata": {},
   "outputs": [
    {
     "name": "stdout",
     "output_type": "stream",
     "text": [
      "cost result 0: 0.693147\n",
      "cost result 100: 0.584508\n",
      "cost result 200: 0.466949\n",
      "cost result 300: 0.376007\n",
      "cost result 400: 0.331463\n",
      "cost result 500: 0.303273\n",
      "cost result 600: 0.279880\n",
      "cost result 700: 0.260042\n",
      "cost result 800: 0.242941\n",
      "cost result 900: 0.228004\n",
      "cost result 1000: 0.214820\n",
      "cost result 1100: 0.203078\n",
      "cost result 1200: 0.192544\n",
      "cost result 1300: 0.183033\n",
      "cost result 1400: 0.174399\n",
      "cost result 1500: 0.166521\n",
      "cost result 1600: 0.159305\n",
      "cost result 1700: 0.152667\n",
      "cost result 1800: 0.146542\n",
      "cost result 1900: 0.140872\n",
      "train data accuracy: 0.9904306220095693\n",
      "test  data accuracy: 0.7\n"
     ]
    }
   ],
   "source": [
    "d = model(train_x, train_y, test_x, test_y, num_iterations = 2000, learning_rate = 0.005)"
   ]
  },
  {
   "cell_type": "code",
   "execution_count": null,
   "id": "cd970af6-f949-4304-9962-7de7a60dccc9",
   "metadata": {},
   "outputs": [],
   "source": []
  }
 ],
 "metadata": {
  "kernelspec": {
   "display_name": "Python 3 (ipykernel)",
   "language": "python",
   "name": "python3"
  },
  "language_info": {
   "codemirror_mode": {
    "name": "ipython",
    "version": 3
   },
   "file_extension": ".py",
   "mimetype": "text/x-python",
   "name": "python",
   "nbconvert_exporter": "python",
   "pygments_lexer": "ipython3",
   "version": "3.9.6"
  }
 },
 "nbformat": 4,
 "nbformat_minor": 5
}
