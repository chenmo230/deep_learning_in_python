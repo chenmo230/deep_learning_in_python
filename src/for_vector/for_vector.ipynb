{
 "cells": [
  {
   "cell_type": "markdown",
   "id": "61e342b3-a589-4220-b4ff-491947d99d5d",
   "metadata": {},
   "source": [
    "### Comparison of time consumption between for loop and vector"
   ]
  },
  {
   "cell_type": "code",
   "execution_count": 1,
   "id": "a3016ea6-2d31-40fb-9cae-b53181d49035",
   "metadata": {},
   "outputs": [],
   "source": [
    "import numpy as np\n",
    "import time"
   ]
  },
  {
   "cell_type": "code",
   "execution_count": 2,
   "id": "89622bc5-d5f6-472c-a1f4-b75d083151cf",
   "metadata": {},
   "outputs": [
    {
     "data": {
      "text/plain": [
       "array([0.51201856, 0.9308813 , 0.5945662 , ..., 0.32449085, 0.7534059 ,\n",
       "       0.98192316], dtype=float32)"
      ]
     },
     "execution_count": 2,
     "metadata": {},
     "output_type": "execute_result"
    }
   ],
   "source": [
    "m = 1_000_000\n",
    "a = np.float32(np.random.rand(m))\n",
    "b = np.float32(np.random.rand(m))\n",
    "a"
   ]
  },
  {
   "cell_type": "code",
   "execution_count": 3,
   "id": "fe32212c-e8a1-48e7-a912-388c0368f58e",
   "metadata": {},
   "outputs": [
    {
     "name": "stdout",
     "output_type": "stream",
     "text": [
      "for loop use time：236.29188537597656ms\n",
      "c:  249914.53950782443\n"
     ]
    }
   ],
   "source": [
    "c = 0\n",
    "a_list = a.tolist()\n",
    "b_list = b.tolist()\n",
    "\n",
    "start = time.time()\n",
    "for i in range(m):\n",
    "    c += a_list[i] * b_list[i]\n",
    "end = time.time()\n",
    "print(\"for loop use time：%s\" % (str(1000*(end-start))) + \"ms\")\n",
    "print(\"c: \", c)"
   ]
  },
  {
   "cell_type": "code",
   "execution_count": 4,
   "id": "5315f7cb-a8cf-49f5-adfc-edc2c909268e",
   "metadata": {},
   "outputs": [
    {
     "name": "stdout",
     "output_type": "stream",
     "text": [
      "vector use time：0.5970001220703125ms\n",
      "c:  249914.44\n"
     ]
    }
   ],
   "source": [
    "start = time.time()\n",
    "c = np.dot(a, b)\n",
    "end = time.time()\n",
    "print(\"vector use time：%s\" % (str(1000*(end-start))) + \"ms\")\n",
    "print(\"c: \", c)"
   ]
  },
  {
   "cell_type": "code",
   "execution_count": null,
   "id": "2dafd782-1cf3-4ef7-b29c-fcdb3ca71819",
   "metadata": {},
   "outputs": [],
   "source": []
  }
 ],
 "metadata": {
  "kernelspec": {
   "display_name": "Python 3 (ipykernel)",
   "language": "python",
   "name": "python3"
  },
  "language_info": {
   "codemirror_mode": {
    "name": "ipython",
    "version": 3
   },
   "file_extension": ".py",
   "mimetype": "text/x-python",
   "name": "python",
   "nbconvert_exporter": "python",
   "pygments_lexer": "ipython3",
   "version": "3.9.6"
  }
 },
 "nbformat": 4,
 "nbformat_minor": 5
}
