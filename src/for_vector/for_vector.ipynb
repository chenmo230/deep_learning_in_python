{
 "cells": [
  {
   "cell_type": "markdown",
   "id": "61e342b3-a589-4220-b4ff-491947d99d5d",
   "metadata": {},
   "source": [
    "### 非向量化和向量化耗时比较"
   ]
  },
  {
   "cell_type": "code",
   "execution_count": 2,
   "id": "a3016ea6-2d31-40fb-9cae-b53181d49035",
   "metadata": {},
   "outputs": [],
   "source": [
    "import numpy as np\n",
    "import time"
   ]
  },
  {
   "cell_type": "code",
   "execution_count": 3,
   "id": "89622bc5-d5f6-472c-a1f4-b75d083151cf",
   "metadata": {},
   "outputs": [
    {
     "data": {
      "text/plain": [
       "array([0.84517986, 0.20018482, 0.77864814, ..., 0.01907785, 0.97957027,\n",
       "       0.6828581 ], dtype=float32)"
      ]
     },
     "execution_count": 3,
     "metadata": {},
     "output_type": "execute_result"
    }
   ],
   "source": [
    "m = 1_000_000\n",
    "a = np.float32(np.random.rand(m))\n",
    "b = np.float32(np.random.rand(m))\n",
    "a"
   ]
  },
  {
   "cell_type": "code",
   "execution_count": 4,
   "id": "fe32212c-e8a1-48e7-a912-388c0368f58e",
   "metadata": {},
   "outputs": [
    {
     "name": "stdout",
     "output_type": "stream",
     "text": [
      "第一种for循环所需时间为：223.07085990905762ms\n",
      "c:  250199.94696690864\n"
     ]
    }
   ],
   "source": [
    "c = 0\n",
    "a_list = a.tolist()\n",
    "b_list = b.tolist()\n",
    "\n",
    "start = time.time()\n",
    "for i in range(m):\n",
    "    c += a_list[i] * b_list[i]\n",
    "end = time.time()\n",
    "print(\"第一种for循环所需时间为：%s\" % (str(1000*(end-start))) + \"ms\")\n",
    "print(\"c: \", c)"
   ]
  },
  {
   "cell_type": "code",
   "execution_count": 5,
   "id": "5315f7cb-a8cf-49f5-adfc-edc2c909268e",
   "metadata": {},
   "outputs": [
    {
     "name": "stdout",
     "output_type": "stream",
     "text": [
      "第二种向量化运算所需时间为：0.7450580596923828ms\n",
      "c:  250199.92\n"
     ]
    }
   ],
   "source": [
    "start = time.time()\n",
    "c = np.dot(a, b)\n",
    "end = time.time()\n",
    "print(\"第二种向量化运算所需时间为：%s\" % (str(1000*(end-start))) + \"ms\")\n",
    "print(\"c: \", c)"
   ]
  },
  {
   "cell_type": "code",
   "execution_count": null,
   "id": "2dafd782-1cf3-4ef7-b29c-fcdb3ca71819",
   "metadata": {},
   "outputs": [],
   "source": []
  }
 ],
 "metadata": {
  "kernelspec": {
   "display_name": "Python 3 (ipykernel)",
   "language": "python",
   "name": "python3"
  },
  "language_info": {
   "codemirror_mode": {
    "name": "ipython",
    "version": 3
   },
   "file_extension": ".py",
   "mimetype": "text/x-python",
   "name": "python",
   "nbconvert_exporter": "python",
   "pygments_lexer": "ipython3",
   "version": "3.9.6"
  }
 },
 "nbformat": 4,
 "nbformat_minor": 5
}
